{
  "nbformat": 4,
  "nbformat_minor": 0,
  "metadata": {
    "colab": {
      "provenance": []
    },
    "kernelspec": {
      "name": "python3",
      "display_name": "Python 3"
    },
    "language_info": {
      "name": "python"
    }
  },
  "cells": [
    {
      "cell_type": "markdown",
      "source": [
        "# Análisis de datos FIFA - Ventaja del equipo local\n",
        "\n",
        " Es común la creencia de que un equipo tiene ventaja cuando juega en su territorio y que los ánimos bajan cuando juega en el territorio de su contrincante. Se investiga qué tan cierto es esto."
      ],
      "metadata": {
        "id": "bIZ5zpjH1Dwt"
      }
    },
    {
      "cell_type": "markdown",
      "source": [
        "## Inicialización"
      ],
      "metadata": {
        "id": "TCIBXvOD1wH1"
      }
    },
    {
      "cell_type": "code",
      "execution_count": 1,
      "metadata": {
        "id": "EPDUjQpN02br"
      },
      "outputs": [],
      "source": [
        "# importar librerias\n",
        "import pandas as pd\n",
        "import numpy as np\n",
        "import matplotlib.pyplot as plt\n",
        "import json"
      ]
    },
    {
      "cell_type": "code",
      "source": [
        "# cargar los datos\n",
        "fifa = pd.read_csv('https://raw.githubusercontent.com/IreneRA/Hackaton-Tripleten/Raw-data/international_matches.csv')"
      ],
      "metadata": {
        "id": "fXvboHyx1R-V"
      },
      "execution_count": 2,
      "outputs": []
    },
    {
      "cell_type": "code",
      "source": [
        "# vista previa\n",
        "fifa.head(5)"
      ],
      "metadata": {
        "colab": {
          "base_uri": "https://localhost:8080/",
          "height": 386
        },
        "id": "RXgUQ74Z1F02",
        "outputId": "5f8f7776-3f9f-44e5-8238-8290540fdd5e"
      },
      "execution_count": 3,
      "outputs": [
        {
          "output_type": "execute_result",
          "data": {
            "text/plain": [
              "         date home_team     away_team home_team_continent away_team_continent  \\\n",
              "0  1993-08-08   Bolivia       Uruguay       South America       South America   \n",
              "1  1993-08-08    Brazil        Mexico       South America       North America   \n",
              "2  1993-08-08   Ecuador     Venezuela       South America       South America   \n",
              "3  1993-08-08    Guinea  Sierra Leone              Africa              Africa   \n",
              "4  1993-08-08  Paraguay     Argentina       South America       South America   \n",
              "\n",
              "   home_team_fifa_rank  away_team_fifa_rank  home_team_total_fifa_points  \\\n",
              "0                   59                   22                            0   \n",
              "1                    8                   14                            0   \n",
              "2                   35                   94                            0   \n",
              "3                   65                   86                            0   \n",
              "4                   67                    5                            0   \n",
              "\n",
              "   away_team_total_fifa_points  home_team_score  ...  shoot_out  \\\n",
              "0                            0                3  ...         No   \n",
              "1                            0                1  ...         No   \n",
              "2                            0                5  ...         No   \n",
              "3                            0                1  ...         No   \n",
              "4                            0                1  ...         No   \n",
              "\n",
              "  home_team_result home_team_goalkeeper_score away_team_goalkeeper_score  \\\n",
              "0              Win                        NaN                        NaN   \n",
              "1             Draw                        NaN                        NaN   \n",
              "2              Win                        NaN                        NaN   \n",
              "3              Win                        NaN                        NaN   \n",
              "4             Lose                        NaN                        NaN   \n",
              "\n",
              "   home_team_mean_defense_score home_team_mean_offense_score  \\\n",
              "0                           NaN                          NaN   \n",
              "1                           NaN                          NaN   \n",
              "2                           NaN                          NaN   \n",
              "3                           NaN                          NaN   \n",
              "4                           NaN                          NaN   \n",
              "\n",
              "  home_team_mean_midfield_score  away_team_mean_defense_score  \\\n",
              "0                           NaN                           NaN   \n",
              "1                           NaN                           NaN   \n",
              "2                           NaN                           NaN   \n",
              "3                           NaN                           NaN   \n",
              "4                           NaN                           NaN   \n",
              "\n",
              "   away_team_mean_offense_score  away_team_mean_midfield_score  \n",
              "0                           NaN                            NaN  \n",
              "1                           NaN                            NaN  \n",
              "2                           NaN                            NaN  \n",
              "3                           NaN                            NaN  \n",
              "4                           NaN                            NaN  \n",
              "\n",
              "[5 rows x 25 columns]"
            ],
            "text/html": [
              "\n",
              "\n",
              "  <div id=\"df-5b159fe6-0b83-4655-b8a7-0f77a7971fe1\">\n",
              "    <div class=\"colab-df-container\">\n",
              "      <div>\n",
              "<style scoped>\n",
              "    .dataframe tbody tr th:only-of-type {\n",
              "        vertical-align: middle;\n",
              "    }\n",
              "\n",
              "    .dataframe tbody tr th {\n",
              "        vertical-align: top;\n",
              "    }\n",
              "\n",
              "    .dataframe thead th {\n",
              "        text-align: right;\n",
              "    }\n",
              "</style>\n",
              "<table border=\"1\" class=\"dataframe\">\n",
              "  <thead>\n",
              "    <tr style=\"text-align: right;\">\n",
              "      <th></th>\n",
              "      <th>date</th>\n",
              "      <th>home_team</th>\n",
              "      <th>away_team</th>\n",
              "      <th>home_team_continent</th>\n",
              "      <th>away_team_continent</th>\n",
              "      <th>home_team_fifa_rank</th>\n",
              "      <th>away_team_fifa_rank</th>\n",
              "      <th>home_team_total_fifa_points</th>\n",
              "      <th>away_team_total_fifa_points</th>\n",
              "      <th>home_team_score</th>\n",
              "      <th>...</th>\n",
              "      <th>shoot_out</th>\n",
              "      <th>home_team_result</th>\n",
              "      <th>home_team_goalkeeper_score</th>\n",
              "      <th>away_team_goalkeeper_score</th>\n",
              "      <th>home_team_mean_defense_score</th>\n",
              "      <th>home_team_mean_offense_score</th>\n",
              "      <th>home_team_mean_midfield_score</th>\n",
              "      <th>away_team_mean_defense_score</th>\n",
              "      <th>away_team_mean_offense_score</th>\n",
              "      <th>away_team_mean_midfield_score</th>\n",
              "    </tr>\n",
              "  </thead>\n",
              "  <tbody>\n",
              "    <tr>\n",
              "      <th>0</th>\n",
              "      <td>1993-08-08</td>\n",
              "      <td>Bolivia</td>\n",
              "      <td>Uruguay</td>\n",
              "      <td>South America</td>\n",
              "      <td>South America</td>\n",
              "      <td>59</td>\n",
              "      <td>22</td>\n",
              "      <td>0</td>\n",
              "      <td>0</td>\n",
              "      <td>3</td>\n",
              "      <td>...</td>\n",
              "      <td>No</td>\n",
              "      <td>Win</td>\n",
              "      <td>NaN</td>\n",
              "      <td>NaN</td>\n",
              "      <td>NaN</td>\n",
              "      <td>NaN</td>\n",
              "      <td>NaN</td>\n",
              "      <td>NaN</td>\n",
              "      <td>NaN</td>\n",
              "      <td>NaN</td>\n",
              "    </tr>\n",
              "    <tr>\n",
              "      <th>1</th>\n",
              "      <td>1993-08-08</td>\n",
              "      <td>Brazil</td>\n",
              "      <td>Mexico</td>\n",
              "      <td>South America</td>\n",
              "      <td>North America</td>\n",
              "      <td>8</td>\n",
              "      <td>14</td>\n",
              "      <td>0</td>\n",
              "      <td>0</td>\n",
              "      <td>1</td>\n",
              "      <td>...</td>\n",
              "      <td>No</td>\n",
              "      <td>Draw</td>\n",
              "      <td>NaN</td>\n",
              "      <td>NaN</td>\n",
              "      <td>NaN</td>\n",
              "      <td>NaN</td>\n",
              "      <td>NaN</td>\n",
              "      <td>NaN</td>\n",
              "      <td>NaN</td>\n",
              "      <td>NaN</td>\n",
              "    </tr>\n",
              "    <tr>\n",
              "      <th>2</th>\n",
              "      <td>1993-08-08</td>\n",
              "      <td>Ecuador</td>\n",
              "      <td>Venezuela</td>\n",
              "      <td>South America</td>\n",
              "      <td>South America</td>\n",
              "      <td>35</td>\n",
              "      <td>94</td>\n",
              "      <td>0</td>\n",
              "      <td>0</td>\n",
              "      <td>5</td>\n",
              "      <td>...</td>\n",
              "      <td>No</td>\n",
              "      <td>Win</td>\n",
              "      <td>NaN</td>\n",
              "      <td>NaN</td>\n",
              "      <td>NaN</td>\n",
              "      <td>NaN</td>\n",
              "      <td>NaN</td>\n",
              "      <td>NaN</td>\n",
              "      <td>NaN</td>\n",
              "      <td>NaN</td>\n",
              "    </tr>\n",
              "    <tr>\n",
              "      <th>3</th>\n",
              "      <td>1993-08-08</td>\n",
              "      <td>Guinea</td>\n",
              "      <td>Sierra Leone</td>\n",
              "      <td>Africa</td>\n",
              "      <td>Africa</td>\n",
              "      <td>65</td>\n",
              "      <td>86</td>\n",
              "      <td>0</td>\n",
              "      <td>0</td>\n",
              "      <td>1</td>\n",
              "      <td>...</td>\n",
              "      <td>No</td>\n",
              "      <td>Win</td>\n",
              "      <td>NaN</td>\n",
              "      <td>NaN</td>\n",
              "      <td>NaN</td>\n",
              "      <td>NaN</td>\n",
              "      <td>NaN</td>\n",
              "      <td>NaN</td>\n",
              "      <td>NaN</td>\n",
              "      <td>NaN</td>\n",
              "    </tr>\n",
              "    <tr>\n",
              "      <th>4</th>\n",
              "      <td>1993-08-08</td>\n",
              "      <td>Paraguay</td>\n",
              "      <td>Argentina</td>\n",
              "      <td>South America</td>\n",
              "      <td>South America</td>\n",
              "      <td>67</td>\n",
              "      <td>5</td>\n",
              "      <td>0</td>\n",
              "      <td>0</td>\n",
              "      <td>1</td>\n",
              "      <td>...</td>\n",
              "      <td>No</td>\n",
              "      <td>Lose</td>\n",
              "      <td>NaN</td>\n",
              "      <td>NaN</td>\n",
              "      <td>NaN</td>\n",
              "      <td>NaN</td>\n",
              "      <td>NaN</td>\n",
              "      <td>NaN</td>\n",
              "      <td>NaN</td>\n",
              "      <td>NaN</td>\n",
              "    </tr>\n",
              "  </tbody>\n",
              "</table>\n",
              "<p>5 rows × 25 columns</p>\n",
              "</div>\n",
              "      <button class=\"colab-df-convert\" onclick=\"convertToInteractive('df-5b159fe6-0b83-4655-b8a7-0f77a7971fe1')\"\n",
              "              title=\"Convert this dataframe to an interactive table.\"\n",
              "              style=\"display:none;\">\n",
              "\n",
              "  <svg xmlns=\"http://www.w3.org/2000/svg\" height=\"24px\"viewBox=\"0 0 24 24\"\n",
              "       width=\"24px\">\n",
              "    <path d=\"M0 0h24v24H0V0z\" fill=\"none\"/>\n",
              "    <path d=\"M18.56 5.44l.94 2.06.94-2.06 2.06-.94-2.06-.94-.94-2.06-.94 2.06-2.06.94zm-11 1L8.5 8.5l.94-2.06 2.06-.94-2.06-.94L8.5 2.5l-.94 2.06-2.06.94zm10 10l.94 2.06.94-2.06 2.06-.94-2.06-.94-.94-2.06-.94 2.06-2.06.94z\"/><path d=\"M17.41 7.96l-1.37-1.37c-.4-.4-.92-.59-1.43-.59-.52 0-1.04.2-1.43.59L10.3 9.45l-7.72 7.72c-.78.78-.78 2.05 0 2.83L4 21.41c.39.39.9.59 1.41.59.51 0 1.02-.2 1.41-.59l7.78-7.78 2.81-2.81c.8-.78.8-2.07 0-2.86zM5.41 20L4 18.59l7.72-7.72 1.47 1.35L5.41 20z\"/>\n",
              "  </svg>\n",
              "      </button>\n",
              "\n",
              "\n",
              "\n",
              "    <div id=\"df-503d8f0d-92a8-4b08-a263-70047f521bef\">\n",
              "      <button class=\"colab-df-quickchart\" onclick=\"quickchart('df-503d8f0d-92a8-4b08-a263-70047f521bef')\"\n",
              "              title=\"Suggest charts.\"\n",
              "              style=\"display:none;\">\n",
              "\n",
              "<svg xmlns=\"http://www.w3.org/2000/svg\" height=\"24px\"viewBox=\"0 0 24 24\"\n",
              "     width=\"24px\">\n",
              "    <g>\n",
              "        <path d=\"M19 3H5c-1.1 0-2 .9-2 2v14c0 1.1.9 2 2 2h14c1.1 0 2-.9 2-2V5c0-1.1-.9-2-2-2zM9 17H7v-7h2v7zm4 0h-2V7h2v10zm4 0h-2v-4h2v4z\"/>\n",
              "    </g>\n",
              "</svg>\n",
              "      </button>\n",
              "    </div>\n",
              "\n",
              "<style>\n",
              "  .colab-df-quickchart {\n",
              "    background-color: #E8F0FE;\n",
              "    border: none;\n",
              "    border-radius: 50%;\n",
              "    cursor: pointer;\n",
              "    display: none;\n",
              "    fill: #1967D2;\n",
              "    height: 32px;\n",
              "    padding: 0 0 0 0;\n",
              "    width: 32px;\n",
              "  }\n",
              "\n",
              "  .colab-df-quickchart:hover {\n",
              "    background-color: #E2EBFA;\n",
              "    box-shadow: 0px 1px 2px rgba(60, 64, 67, 0.3), 0px 1px 3px 1px rgba(60, 64, 67, 0.15);\n",
              "    fill: #174EA6;\n",
              "  }\n",
              "\n",
              "  [theme=dark] .colab-df-quickchart {\n",
              "    background-color: #3B4455;\n",
              "    fill: #D2E3FC;\n",
              "  }\n",
              "\n",
              "  [theme=dark] .colab-df-quickchart:hover {\n",
              "    background-color: #434B5C;\n",
              "    box-shadow: 0px 1px 3px 1px rgba(0, 0, 0, 0.15);\n",
              "    filter: drop-shadow(0px 1px 2px rgba(0, 0, 0, 0.3));\n",
              "    fill: #FFFFFF;\n",
              "  }\n",
              "</style>\n",
              "\n",
              "    <script>\n",
              "      async function quickchart(key) {\n",
              "        const containerElement = document.querySelector('#' + key);\n",
              "        const charts = await google.colab.kernel.invokeFunction(\n",
              "            'suggestCharts', [key], {});\n",
              "      }\n",
              "    </script>\n",
              "\n",
              "\n",
              "      <script>\n",
              "\n",
              "function displayQuickchartButton(domScope) {\n",
              "  let quickchartButtonEl =\n",
              "    domScope.querySelector('#df-503d8f0d-92a8-4b08-a263-70047f521bef button.colab-df-quickchart');\n",
              "  quickchartButtonEl.style.display =\n",
              "    google.colab.kernel.accessAllowed ? 'block' : 'none';\n",
              "}\n",
              "\n",
              "        displayQuickchartButton(document);\n",
              "      </script>\n",
              "      <style>\n",
              "    .colab-df-container {\n",
              "      display:flex;\n",
              "      flex-wrap:wrap;\n",
              "      gap: 12px;\n",
              "    }\n",
              "\n",
              "    .colab-df-convert {\n",
              "      background-color: #E8F0FE;\n",
              "      border: none;\n",
              "      border-radius: 50%;\n",
              "      cursor: pointer;\n",
              "      display: none;\n",
              "      fill: #1967D2;\n",
              "      height: 32px;\n",
              "      padding: 0 0 0 0;\n",
              "      width: 32px;\n",
              "    }\n",
              "\n",
              "    .colab-df-convert:hover {\n",
              "      background-color: #E2EBFA;\n",
              "      box-shadow: 0px 1px 2px rgba(60, 64, 67, 0.3), 0px 1px 3px 1px rgba(60, 64, 67, 0.15);\n",
              "      fill: #174EA6;\n",
              "    }\n",
              "\n",
              "    [theme=dark] .colab-df-convert {\n",
              "      background-color: #3B4455;\n",
              "      fill: #D2E3FC;\n",
              "    }\n",
              "\n",
              "    [theme=dark] .colab-df-convert:hover {\n",
              "      background-color: #434B5C;\n",
              "      box-shadow: 0px 1px 3px 1px rgba(0, 0, 0, 0.15);\n",
              "      filter: drop-shadow(0px 1px 2px rgba(0, 0, 0, 0.3));\n",
              "      fill: #FFFFFF;\n",
              "    }\n",
              "  </style>\n",
              "\n",
              "      <script>\n",
              "        const buttonEl =\n",
              "          document.querySelector('#df-5b159fe6-0b83-4655-b8a7-0f77a7971fe1 button.colab-df-convert');\n",
              "        buttonEl.style.display =\n",
              "          google.colab.kernel.accessAllowed ? 'block' : 'none';\n",
              "\n",
              "        async function convertToInteractive(key) {\n",
              "          const element = document.querySelector('#df-5b159fe6-0b83-4655-b8a7-0f77a7971fe1');\n",
              "          const dataTable =\n",
              "            await google.colab.kernel.invokeFunction('convertToInteractive',\n",
              "                                                     [key], {});\n",
              "          if (!dataTable) return;\n",
              "\n",
              "          const docLinkHtml = 'Like what you see? Visit the ' +\n",
              "            '<a target=\"_blank\" href=https://colab.research.google.com/notebooks/data_table.ipynb>data table notebook</a>'\n",
              "            + ' to learn more about interactive tables.';\n",
              "          element.innerHTML = '';\n",
              "          dataTable['output_type'] = 'display_data';\n",
              "          await google.colab.output.renderOutput(dataTable, element);\n",
              "          const docLink = document.createElement('div');\n",
              "          docLink.innerHTML = docLinkHtml;\n",
              "          element.appendChild(docLink);\n",
              "        }\n",
              "      </script>\n",
              "    </div>\n",
              "  </div>\n"
            ]
          },
          "metadata": {},
          "execution_count": 3
        }
      ]
    },
    {
      "cell_type": "code",
      "source": [
        "#información general\n",
        "fifa.info()"
      ],
      "metadata": {
        "colab": {
          "base_uri": "https://localhost:8080/"
        },
        "id": "TH74Jmqb1X2v",
        "outputId": "ab3caf02-74d5-46d9-bd3d-a26f2b18a2ac"
      },
      "execution_count": 4,
      "outputs": [
        {
          "output_type": "stream",
          "name": "stdout",
          "text": [
            "<class 'pandas.core.frame.DataFrame'>\n",
            "RangeIndex: 23921 entries, 0 to 23920\n",
            "Data columns (total 25 columns):\n",
            " #   Column                         Non-Null Count  Dtype  \n",
            "---  ------                         --------------  -----  \n",
            " 0   date                           23921 non-null  object \n",
            " 1   home_team                      23921 non-null  object \n",
            " 2   away_team                      23921 non-null  object \n",
            " 3   home_team_continent            23921 non-null  object \n",
            " 4   away_team_continent            23921 non-null  object \n",
            " 5   home_team_fifa_rank            23921 non-null  int64  \n",
            " 6   away_team_fifa_rank            23921 non-null  int64  \n",
            " 7   home_team_total_fifa_points    23921 non-null  int64  \n",
            " 8   away_team_total_fifa_points    23921 non-null  int64  \n",
            " 9   home_team_score                23921 non-null  int64  \n",
            " 10  away_team_score                23921 non-null  int64  \n",
            " 11  tournament                     23921 non-null  object \n",
            " 12  city                           23921 non-null  object \n",
            " 13  country                        23921 non-null  object \n",
            " 14  neutral_location               23921 non-null  bool   \n",
            " 15  shoot_out                      23921 non-null  object \n",
            " 16  home_team_result               23921 non-null  object \n",
            " 17  home_team_goalkeeper_score     8379 non-null   float64\n",
            " 18  away_team_goalkeeper_score     8095 non-null   float64\n",
            " 19  home_team_mean_defense_score   7787 non-null   float64\n",
            " 20  home_team_mean_offense_score   8510 non-null   float64\n",
            " 21  home_team_mean_midfield_score  8162 non-null   float64\n",
            " 22  away_team_mean_defense_score   7564 non-null   float64\n",
            " 23  away_team_mean_offense_score   8312 non-null   float64\n",
            " 24  away_team_mean_midfield_score  7979 non-null   float64\n",
            "dtypes: bool(1), float64(8), int64(6), object(10)\n",
            "memory usage: 4.4+ MB\n"
          ]
        }
      ]
    },
    {
      "cell_type": "markdown",
      "source": [
        "Descripción de los datos de `fifa`:\n",
        "-  `date`: fecha en que se llevó a cabo el partido.\n",
        "-  `home_team`: equipo local o equipo que juega en casa.\n",
        "-  `away_team`: equipo visitante.\n",
        "-  `home_team_continent`: continente al que pertenece el equipo local.\n",
        "-  `away_team_continent`: continente al que pertenece el equipo visitante.\n",
        "-  `home_team_fifa_rank`: clasificación FIFA del equipo local en el momento del partido.\n",
        "-  `away_team_fifa_rank`: clasificación FIFA del equipo visitante en el momento del partido.\n",
        "-  `home_team_total_fifa_points`: puntos totales FIFA del equipo local en el momento del partido.\n",
        "-  `away_team_total_fifa_points`: puntos totales FIFA del equipo visitante en el momento del partido.\n",
        "-  `home_team_score`: goles anotados por el equipo local durante el partido.\n",
        "-  `away_team_score`: goles anotados por el equipo visitante durante el partido.\n",
        "-  `tournament`: torneo o competición en el que se lleva a cabo el partido.\n",
        "-  `city`: ciudad en la que se realizó el partido.\n",
        "-  `country`: país en el que se realizó el partido.\n",
        "-  `neutral_location`: booleano (True/False) que indica si el partido se llevó a cabo en una ubicación neutral (es decir, no es el hogar de ninguno de los equipos).\n",
        "-  `shoot_out`: indica si hubo una tanda de penaltis (\"Sí\" o \"No\").\n",
        "-  `home_team_result`: resultado del equipo local (puede ser \"Ganar\", \"Empatar\" o \"Perder\").\n",
        "-  `home_team_goalkeeper_score`: calificación del portero del equipo local.\n",
        "-  `away_team_goalkeeper_score`: calificación del portero del equipo visitante.\n",
        "-  `home_team_mean_defense_score`: calificación media de la defensa del equipo local.\n",
        "-  `home_team_mean_offense_score`: calificación media del ataque del equipo local.\n",
        "-  `home_team_mean_midfield_score`: calificación media del mediocampo del equipo local.\n",
        "-  `away_team_mean_defense_score`: calificación media de la defensa del equipo visitante.\n",
        "-  `away_team_mean_offense_score`: calificación media del ataque del equipo visitante.\n",
        "-  `away_team_mean_midfield_score`: calificación media del mediocampo del equipo visitante."
      ],
      "metadata": {
        "id": "Gp-1LFNe1byD"
      }
    },
    {
      "cell_type": "code",
      "source": [
        "# convertir la columna 'date' a datetime\n",
        "fifa['date'] = pd.to_datetime(fifa['date'])\n",
        "\n",
        "# creación nueva columna año\n",
        "fifa['year'] = fifa['date'].dt.year"
      ],
      "metadata": {
        "id": "uZnnfb191hzD"
      },
      "execution_count": 5,
      "outputs": []
    },
    {
      "cell_type": "markdown",
      "source": [
        "Verificar cambios realizados"
      ],
      "metadata": {
        "id": "IgF58NJc1mTD"
      }
    },
    {
      "cell_type": "code",
      "source": [
        "# información general\n",
        "fifa.info()"
      ],
      "metadata": {
        "colab": {
          "base_uri": "https://localhost:8080/"
        },
        "id": "PEOL9B4W1k8U",
        "outputId": "2f2b6809-4a70-4bef-ec18-3147969a5835"
      },
      "execution_count": 6,
      "outputs": [
        {
          "output_type": "stream",
          "name": "stdout",
          "text": [
            "<class 'pandas.core.frame.DataFrame'>\n",
            "RangeIndex: 23921 entries, 0 to 23920\n",
            "Data columns (total 26 columns):\n",
            " #   Column                         Non-Null Count  Dtype         \n",
            "---  ------                         --------------  -----         \n",
            " 0   date                           23921 non-null  datetime64[ns]\n",
            " 1   home_team                      23921 non-null  object        \n",
            " 2   away_team                      23921 non-null  object        \n",
            " 3   home_team_continent            23921 non-null  object        \n",
            " 4   away_team_continent            23921 non-null  object        \n",
            " 5   home_team_fifa_rank            23921 non-null  int64         \n",
            " 6   away_team_fifa_rank            23921 non-null  int64         \n",
            " 7   home_team_total_fifa_points    23921 non-null  int64         \n",
            " 8   away_team_total_fifa_points    23921 non-null  int64         \n",
            " 9   home_team_score                23921 non-null  int64         \n",
            " 10  away_team_score                23921 non-null  int64         \n",
            " 11  tournament                     23921 non-null  object        \n",
            " 12  city                           23921 non-null  object        \n",
            " 13  country                        23921 non-null  object        \n",
            " 14  neutral_location               23921 non-null  bool          \n",
            " 15  shoot_out                      23921 non-null  object        \n",
            " 16  home_team_result               23921 non-null  object        \n",
            " 17  home_team_goalkeeper_score     8379 non-null   float64       \n",
            " 18  away_team_goalkeeper_score     8095 non-null   float64       \n",
            " 19  home_team_mean_defense_score   7787 non-null   float64       \n",
            " 20  home_team_mean_offense_score   8510 non-null   float64       \n",
            " 21  home_team_mean_midfield_score  8162 non-null   float64       \n",
            " 22  away_team_mean_defense_score   7564 non-null   float64       \n",
            " 23  away_team_mean_offense_score   8312 non-null   float64       \n",
            " 24  away_team_mean_midfield_score  7979 non-null   float64       \n",
            " 25  year                           23921 non-null  int64         \n",
            "dtypes: bool(1), datetime64[ns](1), float64(8), int64(7), object(9)\n",
            "memory usage: 4.6+ MB\n"
          ]
        }
      ]
    },
    {
      "cell_type": "markdown",
      "source": [
        "## Evaluación de la ventaja del equipo local\n",
        " Se investiga la existencia y magnitud de la ventaja que puede tener un equipo al jugar en su propio país o continente, y cómo esta ventaja se manifiesta en diferentes torneos."
      ],
      "metadata": {
        "id": "LGcwLDjm2__D"
      }
    },
    {
      "cell_type": "code",
      "source": [
        "#partidos donde el equipo local juega en su país\n",
        "home_team = fifa [fifa['neutral_location']==False]\n",
        "\n",
        "#graficar los resultados\n",
        "plt.subplots(figsize=(16, 5))\n",
        "home_team['home_team_result'].value_counts().plot(kind='bar',ax=plt.subplot(1,3, 1),color=['limegreen','red','yellow'])\n",
        "plt.title('Home team Results')\n",
        "plt.ylabel('Frecuency')\n",
        "\n",
        "plt.show()"
      ],
      "metadata": {
        "colab": {
          "base_uri": "https://localhost:8080/",
          "height": 547
        },
        "id": "bQMmsd72wDzu",
        "outputId": "6f37ea4c-6c5f-4c99-f5b1-bd17d46d7686"
      },
      "execution_count": 7,
      "outputs": [
        {
          "output_type": "stream",
          "name": "stderr",
          "text": [
            "<ipython-input-7-cea25844e6a4>:6: MatplotlibDeprecationWarning: Auto-removal of overlapping axes is deprecated since 3.6 and will be removed two minor releases later; explicitly call ax.remove() as needed.\n",
            "  home_team['home_team_result'].value_counts().plot(kind='bar',ax=plt.subplot(1,3, 1),color=['limegreen','red','yellow'])\n"
          ]
        },
        {
          "output_type": "display_data",
          "data": {
            "text/plain": [
              "<Figure size 1600x500 with 1 Axes>"
            ],
            "image/png": "[encoded data removed]"
          },
          "metadata": {}
        }
      ]
    },
    {
      "cell_type": "markdown",
      "source": [
        "Al ver los resultados globales cuando un equipo juega en su territorio, la columna verde muestra que el 51.05% de las veces el equipo gana, el 26.05% de los partidos pierde y el 22.90% termina en empate."
      ],
      "metadata": {
        "id": "FjJ6N5OiKizt"
      }
    },
    {
      "cell_type": "code",
      "source": [
        "#Resultados\n",
        "home_team['home_team_result'].value_counts()"
      ],
      "metadata": {
        "colab": {
          "base_uri": "https://localhost:8080/"
        },
        "id": "fTKVwEZ3R6Bo",
        "outputId": "0980b3e5-54c1-42dc-ccd1-cd8939be82ef"
      },
      "execution_count": 8,
      "outputs": [
        {
          "output_type": "execute_result",
          "data": {
            "text/plain": [
              "Win     9162\n",
              "Lose    4675\n",
              "Draw    4110\n",
              "Name: home_team_result, dtype: int64"
            ]
          },
          "metadata": {},
          "execution_count": 8
        }
      ]
    },
    {
      "cell_type": "code",
      "source": [
        "#Porcentaje de resultados\n",
        "home_team['home_team_result'].value_counts()/home_team.shape[0]*100"
      ],
      "metadata": {
        "colab": {
          "base_uri": "https://localhost:8080/"
        },
        "outputId": "06561840-4d3a-41ae-f80f-c63a2d821a58",
        "id": "gI0U86alSsJP"
      },
      "execution_count": 10,
      "outputs": [
        {
          "output_type": "execute_result",
          "data": {
            "text/plain": [
              "Win     51.050315\n",
              "Lose    26.048922\n",
              "Draw    22.900763\n",
              "Name: home_team_result, dtype: float64"
            ]
          },
          "metadata": {},
          "execution_count": 10
        }
      ]
    },
    {
      "cell_type": "markdown",
      "source": [
        "Estos resultados aparentan ventaja para el equipo sede."
      ],
      "metadata": {
        "id": "HEpx_Xt_Pj3j"
      }
    },
    {
      "cell_type": "code",
      "source": [
        "#Convertir datos a formato json para pasarlos al sitio web\n",
        "home_team['home_team_result'].value_counts().to_json(orient = 'columns')"
      ],
      "metadata": {
        "colab": {
          "base_uri": "https://localhost:8080/",
          "height": 36
        },
        "id": "mycS5x1aR0FH",
        "outputId": "9b151fa3-0f43-4346-f05b-b7fb1d1bf0f7"
      },
      "execution_count": 9,
      "outputs": [
        {
          "output_type": "execute_result",
          "data": {
            "text/plain": [
              "'{\"Win\":9162,\"Lose\":4675,\"Draw\":4110}'"
            ],
            "application/vnd.google.colaboratory.intrinsic+json": {
              "type": "string"
            }
          },
          "metadata": {},
          "execution_count": 9
        }
      ]
    },
    {
      "cell_type": "markdown",
      "source": [
        "¿Este mismo comportamiento ocurrirá en distintos torneos?\n",
        "\n",
        "**Análisis por torneo**\n",
        "\n",
        "Se buscan los torneos de los que se tiene más información."
      ],
      "metadata": {
        "id": "OJ4OjZQ2Krg-"
      }
    },
    {
      "cell_type": "code",
      "source": [
        "#partidos por toreno\n",
        "fifa['tournament'].value_counts()"
      ],
      "metadata": {
        "colab": {
          "base_uri": "https://localhost:8080/"
        },
        "id": "y76CxxtMS-8B",
        "outputId": "eb9ef626-5510-48c7-9aac-8da12f46d568"
      },
      "execution_count": 11,
      "outputs": [
        {
          "output_type": "execute_result",
          "data": {
            "text/plain": [
              "Friendly                                8558\n",
              "FIFA World Cup qualification            5528\n",
              "UEFA Euro qualification                 1723\n",
              "African Cup of Nations qualification    1274\n",
              "AFC Asian Cup qualification              541\n",
              "                                        ... \n",
              "AFF Championship qualification             2\n",
              "Copa América qualification                 2\n",
              "Copa Confraternidad                        1\n",
              "TIFOCO Tournament                          1\n",
              "CONMEBOL–UEFA Cup of Champions             1\n",
              "Name: tournament, Length: 82, dtype: int64"
            ]
          },
          "metadata": {},
          "execution_count": 11
        }
      ]
    },
    {
      "cell_type": "markdown",
      "source": [
        "Sin tomar en cuenta los partidos amistosos, los torneos de los que se tiene más información son:\n",
        "- FIFA World Cup qualification\n",
        "- UEFA Euro qualification\n",
        "- African Cup of Nations qualification\n",
        "\n",
        "Se toman estos para continuar el análisis tomando en cuenta el torneo."
      ],
      "metadata": {
        "id": "flYoVp1CT6XY"
      }
    },
    {
      "cell_type": "code",
      "source": [
        "#datos separados por torneo, donde el equipo local juega en su país\n",
        "fifa_wcq = home_team[home_team['tournament'] == 'FIFA World Cup qualification']\n",
        "fifa_uefa = home_team[home_team['tournament'] == 'UEFA Euro qualification']\n",
        "fifa_acnq = home_team[home_team['tournament'] == 'African Cup of Nations qualification']"
      ],
      "metadata": {
        "id": "rDYFfvNTT6J6"
      },
      "execution_count": 12,
      "outputs": []
    },
    {
      "cell_type": "code",
      "source": [
        "#Convertir datos a formato json para pasarlos al sitio web\n",
        "js_wcq = fifa_wcq['home_team_result'].value_counts().to_json(orient = 'columns')\n",
        "print(js_wcq)\n",
        "\n",
        "js_uefa = fifa_uefa['home_team_result'].value_counts().to_json(orient = 'columns')\n",
        "print(js_uefa)\n",
        "\n",
        "js_acnq = fifa_acnq['home_team_result'].value_counts().to_json(orient = 'columns')\n",
        "print(js_acnq)"
      ],
      "metadata": {
        "colab": {
          "base_uri": "https://localhost:8080/"
        },
        "id": "VGXBjKjPSgeN",
        "outputId": "31c593c2-6bb4-484d-e320-a98b0f3f3dbe"
      },
      "execution_count": 13,
      "outputs": [
        {
          "output_type": "stream",
          "name": "stdout",
          "text": [
            "{\"Win\":2633,\"Lose\":1396,\"Draw\":1108}\n",
            "{\"Win\":809,\"Lose\":587,\"Draw\":309}\n",
            "{\"Win\":684,\"Draw\":291,\"Lose\":250}\n"
          ]
        }
      ]
    },
    {
      "cell_type": "code",
      "source": [
        "#graficar 3 torneos\n",
        "plt.subplots(figsize=(12, 4))\n",
        "\n",
        "fifa_wcq['home_team_result'].value_counts().plot(kind='bar',ax=plt.subplot(1,3, 1),color=['limegreen','red','yellow'])\n",
        "plt.title('FIFA World Cup qualification')\n",
        "plt.ylim(0,2700)\n",
        "plt.ylabel('Frecuency')\n",
        "\n",
        "fifa_uefa['home_team_result'].value_counts().plot(kind='bar',ax=plt.subplot(1,3, 2),color=['limegreen','red','yellow'])\n",
        "plt.title('UEFA Euro qualification')\n",
        "plt.ylim(0,2700)\n",
        "\n",
        "fifa_acnq['home_team_result'].value_counts().plot(kind='bar',ax=plt.subplot(1,3, 3),color=['limegreen','yellow','red'])\n",
        "plt.title('African Cup of Nations qualification')\n",
        "plt.ylim(0,2700)\n",
        "\n",
        "plt.show()"
      ],
      "metadata": {
        "colab": {
          "base_uri": "https://localhost:8080/",
          "height": 470
        },
        "id": "L9UT4EAqsa_W",
        "outputId": "54a81efe-8bcb-42eb-a9c9-77b7fb33312f"
      },
      "execution_count": 14,
      "outputs": [
        {
          "output_type": "stream",
          "name": "stderr",
          "text": [
            "<ipython-input-14-f6ba05d23acd>:4: MatplotlibDeprecationWarning: Auto-removal of overlapping axes is deprecated since 3.6 and will be removed two minor releases later; explicitly call ax.remove() as needed.\n",
            "  fifa_wcq['home_team_result'].value_counts().plot(kind='bar',ax=plt.subplot(1,3, 1),color=['limegreen','red','yellow'])\n"
          ]
        },
        {
          "output_type": "display_data",
          "data": {
            "text/plain": [
              "<Figure size 1200x400 with 3 Axes>"
            ],
            "image/png": "[encoded data removed]"
          },
          "metadata": {}
        }
      ]
    },
    {
      "cell_type": "code",
      "source": [
        "#Porcentaje de resultados del torneo FIFA World Cup qualification\n",
        "fifa_wcq['home_team_result'].value_counts()/fifa_wcq.shape[0]*100"
      ],
      "metadata": {
        "colab": {
          "base_uri": "https://localhost:8080/"
        },
        "id": "FdGctLRYZeV6",
        "outputId": "f0741d68-12d3-453e-bbca-9e8b7ed15e3f"
      },
      "execution_count": 15,
      "outputs": [
        {
          "output_type": "execute_result",
          "data": {
            "text/plain": [
              "Win     51.255597\n",
              "Lose    27.175394\n",
              "Draw    21.569009\n",
              "Name: home_team_result, dtype: float64"
            ]
          },
          "metadata": {},
          "execution_count": 15
        }
      ]
    },
    {
      "cell_type": "code",
      "source": [
        "#Porcentaje de resultados del torneo UEFA Euro qualification\n",
        "fifa_uefa['home_team_result'].value_counts()/fifa_uefa.shape[0]*100"
      ],
      "metadata": {
        "colab": {
          "base_uri": "https://localhost:8080/"
        },
        "outputId": "eba63ece-9637-4bec-fba3-bab1f39635fa",
        "id": "xgiSzE_RZzit"
      },
      "execution_count": 16,
      "outputs": [
        {
          "output_type": "execute_result",
          "data": {
            "text/plain": [
              "Win     47.448680\n",
              "Lose    34.428152\n",
              "Draw    18.123167\n",
              "Name: home_team_result, dtype: float64"
            ]
          },
          "metadata": {},
          "execution_count": 16
        }
      ]
    },
    {
      "cell_type": "code",
      "source": [
        "#Porcentaje de resultados del torneo African Cup of Nations qualification\n",
        "fifa_acnq['home_team_result'].value_counts()/fifa_acnq.shape[0]*100"
      ],
      "metadata": {
        "colab": {
          "base_uri": "https://localhost:8080/"
        },
        "outputId": "9e3b75e2-a073-4498-8c35-5d151643c3dc",
        "id": "aXupCj2yZ0xj"
      },
      "execution_count": 17,
      "outputs": [
        {
          "output_type": "execute_result",
          "data": {
            "text/plain": [
              "Win     55.836735\n",
              "Draw    23.755102\n",
              "Lose    20.408163\n",
              "Name: home_team_result, dtype: float64"
            ]
          },
          "metadata": {},
          "execution_count": 17
        }
      ]
    },
    {
      "cell_type": "markdown",
      "source": [
        "Al graficar los resultados, se observa que en los 3 torneos aproximadamente el 50% de las veces el equipo jugando en su territorio gana. La única diferencia en el comportamiento es que en el Campeonato Africano de Naciones hay un mayor porcentaje de empates que de partidos perdidos.\n",
        "\n",
        "## Conclusión\n",
        "Al analizar la posible ventaja que puede tener un equipo al jugar en su propio país en distintos torneos, se obtuvieron porcentajes similares donde la mitad o incluso más de los partidos, el equipo sede gana."
      ],
      "metadata": {
        "id": "Wvdn_yKOaUAr"
      }
    }
  ]
}