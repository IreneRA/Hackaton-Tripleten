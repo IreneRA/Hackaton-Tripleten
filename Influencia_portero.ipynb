{
  "nbformat": 4,
  "nbformat_minor": 0,
  "metadata": {
    "colab": {
      "provenance": []
    },
    "kernelspec": {
      "name": "python3",
      "display_name": "Python 3"
    },
    "language_info": {
      "name": "python"
    }
  },
  "cells": [
    {
      "cell_type": "markdown",
      "source": [
        "# Análisis de datos FIFA - Influencia del portero en rondas de penaltis\n",
        "\n",
        "Estudiar la contribución y efectividad de los porteros durante las rondas de penaltis y determinar cuánto impactan en el resultado final de dichas rondas."
      ],
      "metadata": {
        "id": "bIZ5zpjH1Dwt"
      }
    },
    {
      "cell_type": "markdown",
      "source": [
        "## Inicialización"
      ],
      "metadata": {
        "id": "TCIBXvOD1wH1"
      }
    },
    {
      "cell_type": "code",
      "source": [
        "# importar librerias\n",
        "import pandas as pd\n",
        "import numpy as np\n",
        "import statistics as statistics\n",
        "import matplotlib.pyplot as plt\n",
        "import json\n",
        "from scipy import stats as st"
      ],
      "metadata": {
        "id": "Sd7E2jcijta7"
      },
      "execution_count": 1,
      "outputs": []
    },
    {
      "cell_type": "code",
      "source": [
        "# cargar los datos - Irene\n",
        "fifa = pd.read_csv('https://raw.githubusercontent.com/IreneRA/Hackaton-Tripleten/Raw-data/international_matches.csv')"
      ],
      "metadata": {
        "id": "8WJG5w4fuIAo"
      },
      "execution_count": 2,
      "outputs": []
    },
    {
      "cell_type": "code",
      "source": [
        "# vista previa\n",
        "fifa.head(5)"
      ],
      "metadata": {
        "colab": {
          "base_uri": "https://localhost:8080/",
          "height": 386
        },
        "id": "RXgUQ74Z1F02",
        "outputId": "c905f270-37eb-4278-d77b-adf498a58d17"
      },
      "execution_count": 3,
      "outputs": [
        {
          "output_type": "execute_result",
          "data": {
            "text/plain": [
              "         date home_team     away_team home_team_continent away_team_continent  \\\n",
              "0  1993-08-08   Bolivia       Uruguay       South America       South America   \n",
              "1  1993-08-08    Brazil        Mexico       South America       North America   \n",
              "2  1993-08-08   Ecuador     Venezuela       South America       South America   \n",
              "3  1993-08-08    Guinea  Sierra Leone              Africa              Africa   \n",
              "4  1993-08-08  Paraguay     Argentina       South America       South America   \n",
              "\n",
              "   home_team_fifa_rank  away_team_fifa_rank  home_team_total_fifa_points  \\\n",
              "0                   59                   22                            0   \n",
              "1                    8                   14                            0   \n",
              "2                   35                   94                            0   \n",
              "3                   65                   86                            0   \n",
              "4                   67                    5                            0   \n",
              "\n",
              "   away_team_total_fifa_points  home_team_score  ...  shoot_out  \\\n",
              "0                            0                3  ...         No   \n",
              "1                            0                1  ...         No   \n",
              "2                            0                5  ...         No   \n",
              "3                            0                1  ...         No   \n",
              "4                            0                1  ...         No   \n",
              "\n",
              "  home_team_result home_team_goalkeeper_score away_team_goalkeeper_score  \\\n",
              "0              Win                        NaN                        NaN   \n",
              "1             Draw                        NaN                        NaN   \n",
              "2              Win                        NaN                        NaN   \n",
              "3              Win                        NaN                        NaN   \n",
              "4             Lose                        NaN                        NaN   \n",
              "\n",
              "   home_team_mean_defense_score home_team_mean_offense_score  \\\n",
              "0                           NaN                          NaN   \n",
              "1                           NaN                          NaN   \n",
              "2                           NaN                          NaN   \n",
              "3                           NaN                          NaN   \n",
              "4                           NaN                          NaN   \n",
              "\n",
              "  home_team_mean_midfield_score  away_team_mean_defense_score  \\\n",
              "0                           NaN                           NaN   \n",
              "1                           NaN                           NaN   \n",
              "2                           NaN                           NaN   \n",
              "3                           NaN                           NaN   \n",
              "4                           NaN                           NaN   \n",
              "\n",
              "   away_team_mean_offense_score  away_team_mean_midfield_score  \n",
              "0                           NaN                            NaN  \n",
              "1                           NaN                            NaN  \n",
              "2                           NaN                            NaN  \n",
              "3                           NaN                            NaN  \n",
              "4                           NaN                            NaN  \n",
              "\n",
              "[5 rows x 25 columns]"
            ],
            "text/html": [
              "\n",
              "\n",
              "  <div id=\"df-63660358-0320-460f-b9d9-c63090abe49c\">\n",
              "    <div class=\"colab-df-container\">\n",
              "      <div>\n",
              "<style scoped>\n",
              "    .dataframe tbody tr th:only-of-type {\n",
              "        vertical-align: middle;\n",
              "    }\n",
              "\n",
              "    .dataframe tbody tr th {\n",
              "        vertical-align: top;\n",
              "    }\n",
              "\n",
              "    .dataframe thead th {\n",
              "        text-align: right;\n",
              "    }\n",
              "</style>\n",
              "<table border=\"1\" class=\"dataframe\">\n",
              "  <thead>\n",
              "    <tr style=\"text-align: right;\">\n",
              "      <th></th>\n",
              "      <th>date</th>\n",
              "      <th>home_team</th>\n",
              "      <th>away_team</th>\n",
              "      <th>home_team_continent</th>\n",
              "      <th>away_team_continent</th>\n",
              "      <th>home_team_fifa_rank</th>\n",
              "      <th>away_team_fifa_rank</th>\n",
              "      <th>home_team_total_fifa_points</th>\n",
              "      <th>away_team_total_fifa_points</th>\n",
              "      <th>home_team_score</th>\n",
              "      <th>...</th>\n",
              "      <th>shoot_out</th>\n",
              "      <th>home_team_result</th>\n",
              "      <th>home_team_goalkeeper_score</th>\n",
              "      <th>away_team_goalkeeper_score</th>\n",
              "      <th>home_team_mean_defense_score</th>\n",
              "      <th>home_team_mean_offense_score</th>\n",
              "      <th>home_team_mean_midfield_score</th>\n",
              "      <th>away_team_mean_defense_score</th>\n",
              "      <th>away_team_mean_offense_score</th>\n",
              "      <th>away_team_mean_midfield_score</th>\n",
              "    </tr>\n",
              "  </thead>\n",
              "  <tbody>\n",
              "    <tr>\n",
              "      <th>0</th>\n",
              "      <td>1993-08-08</td>\n",
              "      <td>Bolivia</td>\n",
              "      <td>Uruguay</td>\n",
              "      <td>South America</td>\n",
              "      <td>South America</td>\n",
              "      <td>59</td>\n",
              "      <td>22</td>\n",
              "      <td>0</td>\n",
              "      <td>0</td>\n",
              "      <td>3</td>\n",
              "      <td>...</td>\n",
              "      <td>No</td>\n",
              "      <td>Win</td>\n",
              "      <td>NaN</td>\n",
              "      <td>NaN</td>\n",
              "      <td>NaN</td>\n",
              "      <td>NaN</td>\n",
              "      <td>NaN</td>\n",
              "      <td>NaN</td>\n",
              "      <td>NaN</td>\n",
              "      <td>NaN</td>\n",
              "    </tr>\n",
              "    <tr>\n",
              "      <th>1</th>\n",
              "      <td>1993-08-08</td>\n",
              "      <td>Brazil</td>\n",
              "      <td>Mexico</td>\n",
              "      <td>South America</td>\n",
              "      <td>North America</td>\n",
              "      <td>8</td>\n",
              "      <td>14</td>\n",
              "      <td>0</td>\n",
              "      <td>0</td>\n",
              "      <td>1</td>\n",
              "      <td>...</td>\n",
              "      <td>No</td>\n",
              "      <td>Draw</td>\n",
              "      <td>NaN</td>\n",
              "      <td>NaN</td>\n",
              "      <td>NaN</td>\n",
              "      <td>NaN</td>\n",
              "      <td>NaN</td>\n",
              "      <td>NaN</td>\n",
              "      <td>NaN</td>\n",
              "      <td>NaN</td>\n",
              "    </tr>\n",
              "    <tr>\n",
              "      <th>2</th>\n",
              "      <td>1993-08-08</td>\n",
              "      <td>Ecuador</td>\n",
              "      <td>Venezuela</td>\n",
              "      <td>South America</td>\n",
              "      <td>South America</td>\n",
              "      <td>35</td>\n",
              "      <td>94</td>\n",
              "      <td>0</td>\n",
              "      <td>0</td>\n",
              "      <td>5</td>\n",
              "      <td>...</td>\n",
              "      <td>No</td>\n",
              "      <td>Win</td>\n",
              "      <td>NaN</td>\n",
              "      <td>NaN</td>\n",
              "      <td>NaN</td>\n",
              "      <td>NaN</td>\n",
              "      <td>NaN</td>\n",
              "      <td>NaN</td>\n",
              "      <td>NaN</td>\n",
              "      <td>NaN</td>\n",
              "    </tr>\n",
              "    <tr>\n",
              "      <th>3</th>\n",
              "      <td>1993-08-08</td>\n",
              "      <td>Guinea</td>\n",
              "      <td>Sierra Leone</td>\n",
              "      <td>Africa</td>\n",
              "      <td>Africa</td>\n",
              "      <td>65</td>\n",
              "      <td>86</td>\n",
              "      <td>0</td>\n",
              "      <td>0</td>\n",
              "      <td>1</td>\n",
              "      <td>...</td>\n",
              "      <td>No</td>\n",
              "      <td>Win</td>\n",
              "      <td>NaN</td>\n",
              "      <td>NaN</td>\n",
              "      <td>NaN</td>\n",
              "      <td>NaN</td>\n",
              "      <td>NaN</td>\n",
              "      <td>NaN</td>\n",
              "      <td>NaN</td>\n",
              "      <td>NaN</td>\n",
              "    </tr>\n",
              "    <tr>\n",
              "      <th>4</th>\n",
              "      <td>1993-08-08</td>\n",
              "      <td>Paraguay</td>\n",
              "      <td>Argentina</td>\n",
              "      <td>South America</td>\n",
              "      <td>South America</td>\n",
              "      <td>67</td>\n",
              "      <td>5</td>\n",
              "      <td>0</td>\n",
              "      <td>0</td>\n",
              "      <td>1</td>\n",
              "      <td>...</td>\n",
              "      <td>No</td>\n",
              "      <td>Lose</td>\n",
              "      <td>NaN</td>\n",
              "      <td>NaN</td>\n",
              "      <td>NaN</td>\n",
              "      <td>NaN</td>\n",
              "      <td>NaN</td>\n",
              "      <td>NaN</td>\n",
              "      <td>NaN</td>\n",
              "      <td>NaN</td>\n",
              "    </tr>\n",
              "  </tbody>\n",
              "</table>\n",
              "<p>5 rows × 25 columns</p>\n",
              "</div>\n",
              "      <button class=\"colab-df-convert\" onclick=\"convertToInteractive('df-63660358-0320-460f-b9d9-c63090abe49c')\"\n",
              "              title=\"Convert this dataframe to an interactive table.\"\n",
              "              style=\"display:none;\">\n",
              "\n",
              "  <svg xmlns=\"http://www.w3.org/2000/svg\" height=\"24px\"viewBox=\"0 0 24 24\"\n",
              "       width=\"24px\">\n",
              "    <path d=\"M0 0h24v24H0V0z\" fill=\"none\"/>\n",
              "    <path d=\"M18.56 5.44l.94 2.06.94-2.06 2.06-.94-2.06-.94-.94-2.06-.94 2.06-2.06.94zm-11 1L8.5 8.5l.94-2.06 2.06-.94-2.06-.94L8.5 2.5l-.94 2.06-2.06.94zm10 10l.94 2.06.94-2.06 2.06-.94-2.06-.94-.94-2.06-.94 2.06-2.06.94z\"/><path d=\"M17.41 7.96l-1.37-1.37c-.4-.4-.92-.59-1.43-.59-.52 0-1.04.2-1.43.59L10.3 9.45l-7.72 7.72c-.78.78-.78 2.05 0 2.83L4 21.41c.39.39.9.59 1.41.59.51 0 1.02-.2 1.41-.59l7.78-7.78 2.81-2.81c.8-.78.8-2.07 0-2.86zM5.41 20L4 18.59l7.72-7.72 1.47 1.35L5.41 20z\"/>\n",
              "  </svg>\n",
              "      </button>\n",
              "\n",
              "\n",
              "\n",
              "    <div id=\"df-093e8c93-8031-4632-bde4-6a7a02e085da\">\n",
              "      <button class=\"colab-df-quickchart\" onclick=\"quickchart('df-093e8c93-8031-4632-bde4-6a7a02e085da')\"\n",
              "              title=\"Suggest charts.\"\n",
              "              style=\"display:none;\">\n",
              "\n",
              "<svg xmlns=\"http://www.w3.org/2000/svg\" height=\"24px\"viewBox=\"0 0 24 24\"\n",
              "     width=\"24px\">\n",
              "    <g>\n",
              "        <path d=\"M19 3H5c-1.1 0-2 .9-2 2v14c0 1.1.9 2 2 2h14c1.1 0 2-.9 2-2V5c0-1.1-.9-2-2-2zM9 17H7v-7h2v7zm4 0h-2V7h2v10zm4 0h-2v-4h2v4z\"/>\n",
              "    </g>\n",
              "</svg>\n",
              "      </button>\n",
              "    </div>\n",
              "\n",
              "<style>\n",
              "  .colab-df-quickchart {\n",
              "    background-color: #E8F0FE;\n",
              "    border: none;\n",
              "    border-radius: 50%;\n",
              "    cursor: pointer;\n",
              "    display: none;\n",
              "    fill: #1967D2;\n",
              "    height: 32px;\n",
              "    padding: 0 0 0 0;\n",
              "    width: 32px;\n",
              "  }\n",
              "\n",
              "  .colab-df-quickchart:hover {\n",
              "    background-color: #E2EBFA;\n",
              "    box-shadow: 0px 1px 2px rgba(60, 64, 67, 0.3), 0px 1px 3px 1px rgba(60, 64, 67, 0.15);\n",
              "    fill: #174EA6;\n",
              "  }\n",
              "\n",
              "  [theme=dark] .colab-df-quickchart {\n",
              "    background-color: #3B4455;\n",
              "    fill: #D2E3FC;\n",
              "  }\n",
              "\n",
              "  [theme=dark] .colab-df-quickchart:hover {\n",
              "    background-color: #434B5C;\n",
              "    box-shadow: 0px 1px 3px 1px rgba(0, 0, 0, 0.15);\n",
              "    filter: drop-shadow(0px 1px 2px rgba(0, 0, 0, 0.3));\n",
              "    fill: #FFFFFF;\n",
              "  }\n",
              "</style>\n",
              "\n",
              "    <script>\n",
              "      async function quickchart(key) {\n",
              "        const containerElement = document.querySelector('#' + key);\n",
              "        const charts = await google.colab.kernel.invokeFunction(\n",
              "            'suggestCharts', [key], {});\n",
              "      }\n",
              "    </script>\n",
              "\n",
              "\n",
              "      <script>\n",
              "\n",
              "function displayQuickchartButton(domScope) {\n",
              "  let quickchartButtonEl =\n",
              "    domScope.querySelector('#df-093e8c93-8031-4632-bde4-6a7a02e085da button.colab-df-quickchart');\n",
              "  quickchartButtonEl.style.display =\n",
              "    google.colab.kernel.accessAllowed ? 'block' : 'none';\n",
              "}\n",
              "\n",
              "        displayQuickchartButton(document);\n",
              "      </script>\n",
              "      <style>\n",
              "    .colab-df-container {\n",
              "      display:flex;\n",
              "      flex-wrap:wrap;\n",
              "      gap: 12px;\n",
              "    }\n",
              "\n",
              "    .colab-df-convert {\n",
              "      background-color: #E8F0FE;\n",
              "      border: none;\n",
              "      border-radius: 50%;\n",
              "      cursor: pointer;\n",
              "      display: none;\n",
              "      fill: #1967D2;\n",
              "      height: 32px;\n",
              "      padding: 0 0 0 0;\n",
              "      width: 32px;\n",
              "    }\n",
              "\n",
              "    .colab-df-convert:hover {\n",
              "      background-color: #E2EBFA;\n",
              "      box-shadow: 0px 1px 2px rgba(60, 64, 67, 0.3), 0px 1px 3px 1px rgba(60, 64, 67, 0.15);\n",
              "      fill: #174EA6;\n",
              "    }\n",
              "\n",
              "    [theme=dark] .colab-df-convert {\n",
              "      background-color: #3B4455;\n",
              "      fill: #D2E3FC;\n",
              "    }\n",
              "\n",
              "    [theme=dark] .colab-df-convert:hover {\n",
              "      background-color: #434B5C;\n",
              "      box-shadow: 0px 1px 3px 1px rgba(0, 0, 0, 0.15);\n",
              "      filter: drop-shadow(0px 1px 2px rgba(0, 0, 0, 0.3));\n",
              "      fill: #FFFFFF;\n",
              "    }\n",
              "  </style>\n",
              "\n",
              "      <script>\n",
              "        const buttonEl =\n",
              "          document.querySelector('#df-63660358-0320-460f-b9d9-c63090abe49c button.colab-df-convert');\n",
              "        buttonEl.style.display =\n",
              "          google.colab.kernel.accessAllowed ? 'block' : 'none';\n",
              "\n",
              "        async function convertToInteractive(key) {\n",
              "          const element = document.querySelector('#df-63660358-0320-460f-b9d9-c63090abe49c');\n",
              "          const dataTable =\n",
              "            await google.colab.kernel.invokeFunction('convertToInteractive',\n",
              "                                                     [key], {});\n",
              "          if (!dataTable) return;\n",
              "\n",
              "          const docLinkHtml = 'Like what you see? Visit the ' +\n",
              "            '<a target=\"_blank\" href=https://colab.research.google.com/notebooks/data_table.ipynb>data table notebook</a>'\n",
              "            + ' to learn more about interactive tables.';\n",
              "          element.innerHTML = '';\n",
              "          dataTable['output_type'] = 'display_data';\n",
              "          await google.colab.output.renderOutput(dataTable, element);\n",
              "          const docLink = document.createElement('div');\n",
              "          docLink.innerHTML = docLinkHtml;\n",
              "          element.appendChild(docLink);\n",
              "        }\n",
              "      </script>\n",
              "    </div>\n",
              "  </div>\n"
            ]
          },
          "metadata": {},
          "execution_count": 3
        }
      ]
    },
    {
      "cell_type": "code",
      "source": [
        "#información general\n",
        "fifa.info()"
      ],
      "metadata": {
        "colab": {
          "base_uri": "https://localhost:8080/"
        },
        "id": "TH74Jmqb1X2v",
        "outputId": "78992e51-7f4d-4b9d-f3f6-c0923adb3545"
      },
      "execution_count": 4,
      "outputs": [
        {
          "output_type": "stream",
          "name": "stdout",
          "text": [
            "<class 'pandas.core.frame.DataFrame'>\n",
            "RangeIndex: 23921 entries, 0 to 23920\n",
            "Data columns (total 25 columns):\n",
            " #   Column                         Non-Null Count  Dtype  \n",
            "---  ------                         --------------  -----  \n",
            " 0   date                           23921 non-null  object \n",
            " 1   home_team                      23921 non-null  object \n",
            " 2   away_team                      23921 non-null  object \n",
            " 3   home_team_continent            23921 non-null  object \n",
            " 4   away_team_continent            23921 non-null  object \n",
            " 5   home_team_fifa_rank            23921 non-null  int64  \n",
            " 6   away_team_fifa_rank            23921 non-null  int64  \n",
            " 7   home_team_total_fifa_points    23921 non-null  int64  \n",
            " 8   away_team_total_fifa_points    23921 non-null  int64  \n",
            " 9   home_team_score                23921 non-null  int64  \n",
            " 10  away_team_score                23921 non-null  int64  \n",
            " 11  tournament                     23921 non-null  object \n",
            " 12  city                           23921 non-null  object \n",
            " 13  country                        23921 non-null  object \n",
            " 14  neutral_location               23921 non-null  bool   \n",
            " 15  shoot_out                      23921 non-null  object \n",
            " 16  home_team_result               23921 non-null  object \n",
            " 17  home_team_goalkeeper_score     8379 non-null   float64\n",
            " 18  away_team_goalkeeper_score     8095 non-null   float64\n",
            " 19  home_team_mean_defense_score   7787 non-null   float64\n",
            " 20  home_team_mean_offense_score   8510 non-null   float64\n",
            " 21  home_team_mean_midfield_score  8162 non-null   float64\n",
            " 22  away_team_mean_defense_score   7564 non-null   float64\n",
            " 23  away_team_mean_offense_score   8312 non-null   float64\n",
            " 24  away_team_mean_midfield_score  7979 non-null   float64\n",
            "dtypes: bool(1), float64(8), int64(6), object(10)\n",
            "memory usage: 4.4+ MB\n"
          ]
        }
      ]
    },
    {
      "cell_type": "markdown",
      "source": [
        "Descripción de los datos de `fifa`:\n",
        "-  `date`: fecha en que se llevó a cabo el partido.\n",
        "-  `home_team`: equipo local o equipo que juega en casa.\n",
        "-  `away_team`: equipo visitante.\n",
        "-  `home_team_continent`: continente al que pertenece el equipo local.\n",
        "-  `away_team_continent`: continente al que pertenece el equipo visitante.\n",
        "-  `home_team_fifa_rank`: clasificación FIFA del equipo local en el momento del partido.\n",
        "-  `away_team_fifa_rank`: clasificación FIFA del equipo visitante en el momento del partido.\n",
        "-  `home_team_total_fifa_points`: puntos totales FIFA del equipo local en el momento del partido.\n",
        "-  `away_team_total_fifa_points`: puntos totales FIFA del equipo visitante en el momento del partido.\n",
        "-  `home_team_score`: goles anotados por el equipo local durante el partido.\n",
        "-  `away_team_score`: goles anotados por el equipo visitante durante el partido.\n",
        "-  `tournament`: torneo o competición en el que se lleva a cabo el partido.\n",
        "-  `city`: ciudad en la que se realizó el partido.\n",
        "-  `country`: país en el que se realizó el partido.\n",
        "-  `neutral_location`: booleano (True/False) que indica si el partido se llevó a cabo en una ubicación neutral (es decir, no es el hogar de ninguno de los equipos).\n",
        "-  `shoot_out`: indica si hubo una tanda de penaltis (\"Sí\" o \"No\").\n",
        "-  `home_team_result`: resultado del equipo local (puede ser \"Ganar\", \"Empatar\" o \"Perder\").\n",
        "-  `home_team_goalkeeper_score`: calificación del portero del equipo local.\n",
        "-  `away_team_goalkeeper_score`: calificación del portero del equipo visitante.\n",
        "-  `home_team_mean_defense_score`: calificación media de la defensa del equipo local.\n",
        "-  `home_team_mean_offense_score`: calificación media del ataque del equipo local.\n",
        "-  `home_team_mean_midfield_score`: calificación media del mediocampo del equipo local.\n",
        "-  `away_team_mean_defense_score`: calificación media de la defensa del equipo visitante.\n",
        "-  `away_team_mean_offense_score`: calificación media del ataque del equipo visitante.\n",
        "-  `away_team_mean_midfield_score`: calificación media del mediocampo del equipo visitante."
      ],
      "metadata": {
        "id": "Gp-1LFNe1byD"
      }
    },
    {
      "cell_type": "code",
      "source": [
        "# convertir la columna 'date' a datetime\n",
        "fifa['date'] = pd.to_datetime(fifa['date'])\n",
        "\n",
        "# creación nueva columna año\n",
        "fifa['year'] = fifa['date'].dt.year"
      ],
      "metadata": {
        "id": "uZnnfb191hzD"
      },
      "execution_count": 5,
      "outputs": []
    },
    {
      "cell_type": "markdown",
      "source": [
        "Verificar cambios realizados"
      ],
      "metadata": {
        "id": "IgF58NJc1mTD"
      }
    },
    {
      "cell_type": "code",
      "source": [
        "# información general\n",
        "fifa.info()"
      ],
      "metadata": {
        "colab": {
          "base_uri": "https://localhost:8080/"
        },
        "id": "PEOL9B4W1k8U",
        "outputId": "45e9ae23-e817-4a14-9484-25931323e476"
      },
      "execution_count": 6,
      "outputs": [
        {
          "output_type": "stream",
          "name": "stdout",
          "text": [
            "<class 'pandas.core.frame.DataFrame'>\n",
            "RangeIndex: 23921 entries, 0 to 23920\n",
            "Data columns (total 26 columns):\n",
            " #   Column                         Non-Null Count  Dtype         \n",
            "---  ------                         --------------  -----         \n",
            " 0   date                           23921 non-null  datetime64[ns]\n",
            " 1   home_team                      23921 non-null  object        \n",
            " 2   away_team                      23921 non-null  object        \n",
            " 3   home_team_continent            23921 non-null  object        \n",
            " 4   away_team_continent            23921 non-null  object        \n",
            " 5   home_team_fifa_rank            23921 non-null  int64         \n",
            " 6   away_team_fifa_rank            23921 non-null  int64         \n",
            " 7   home_team_total_fifa_points    23921 non-null  int64         \n",
            " 8   away_team_total_fifa_points    23921 non-null  int64         \n",
            " 9   home_team_score                23921 non-null  int64         \n",
            " 10  away_team_score                23921 non-null  int64         \n",
            " 11  tournament                     23921 non-null  object        \n",
            " 12  city                           23921 non-null  object        \n",
            " 13  country                        23921 non-null  object        \n",
            " 14  neutral_location               23921 non-null  bool          \n",
            " 15  shoot_out                      23921 non-null  object        \n",
            " 16  home_team_result               23921 non-null  object        \n",
            " 17  home_team_goalkeeper_score     8379 non-null   float64       \n",
            " 18  away_team_goalkeeper_score     8095 non-null   float64       \n",
            " 19  home_team_mean_defense_score   7787 non-null   float64       \n",
            " 20  home_team_mean_offense_score   8510 non-null   float64       \n",
            " 21  home_team_mean_midfield_score  8162 non-null   float64       \n",
            " 22  away_team_mean_defense_score   7564 non-null   float64       \n",
            " 23  away_team_mean_offense_score   8312 non-null   float64       \n",
            " 24  away_team_mean_midfield_score  7979 non-null   float64       \n",
            " 25  year                           23921 non-null  int64         \n",
            "dtypes: bool(1), datetime64[ns](1), float64(8), int64(7), object(9)\n",
            "memory usage: 4.6+ MB\n"
          ]
        }
      ]
    },
    {
      "cell_type": "markdown",
      "source": [
        "## Influencia del portero en rondas de penaltis\n",
        "\n",
        " Se toman en cuenta unicamente los partidos donde hubo penales y donde se tiene la calificación del portero del equipo local y la del portero del equipo visitante.\n",
        "\n",
        "Esto para poder comparar las calificaciones de los porteros del equipo ganador contra la de los porteros del equipo perdedor."
      ],
      "metadata": {
        "id": "YOxzeB6ga65p"
      }
    },
    {
      "cell_type": "code",
      "source": [
        "#partidos donde hay penales y se tienen las calificaciones de los porteros\n",
        "fifa_penal = fifa[(fifa['shoot_out']=='Yes') & (fifa['home_team_goalkeeper_score'].isna()==False) & (fifa['away_team_goalkeeper_score'].isna()==False)]"
      ],
      "metadata": {
        "id": "TosNtZjOO1pT"
      },
      "execution_count": 7,
      "outputs": []
    },
    {
      "cell_type": "code",
      "source": [
        "#Partidos analizados\n",
        "len(fifa_penal)"
      ],
      "metadata": {
        "colab": {
          "base_uri": "https://localhost:8080/"
        },
        "id": "y5aJlq46KcRf",
        "outputId": "6aff3891-cb31-48b9-dd44-e41d1ebb4ba4"
      },
      "execution_count": 8,
      "outputs": [
        {
          "output_type": "execute_result",
          "data": {
            "text/plain": [
              "77"
            ]
          },
          "metadata": {},
          "execution_count": 8
        }
      ]
    },
    {
      "cell_type": "code",
      "source": [
        "# calificaciones de los porteros cuando su equipo gana\n",
        "plt.subplots(figsize=(10, 4))\n",
        "\n",
        "fifa_penal[fifa['home_team_result']=='Win'].hist(column='home_team_goalkeeper_score',ax=plt.subplot(1,2, 1),color='limegreen')\n",
        "plt.title('Desempeño del portero local cuando su equipo gana',size=10)\n",
        "plt.xlabel('Evaluación del portero')\n",
        "plt.ylabel('Frecuencia')\n",
        "\n",
        "fifa_penal[fifa['home_team_result']=='Lose'].hist(column='away_team_goalkeeper_score',ax=plt.subplot(1, 2, 2),color='limegreen')\n",
        "plt.title('Desempeño del portero visitante cuando su equipo gana',size=10)\n",
        "plt.xlabel('Evaluación del portero')\n",
        "plt.ylabel('Frecuencia')\n",
        "\n",
        "plt.show()"
      ],
      "metadata": {
        "colab": {
          "base_uri": "https://localhost:8080/",
          "height": 539
        },
        "id": "TkaFg_vXdeYJ",
        "outputId": "5dc581f4-1841-43d0-a7c5-af1a40b38f96"
      },
      "execution_count": 9,
      "outputs": [
        {
          "output_type": "stream",
          "name": "stderr",
          "text": [
            "<ipython-input-9-401b5cea7ee8>:4: UserWarning: Boolean Series key will be reindexed to match DataFrame index.\n",
            "  fifa_penal[fifa['home_team_result']=='Win'].hist(column='home_team_goalkeeper_score',ax=plt.subplot(1,2, 1),color='limegreen')\n",
            "<ipython-input-9-401b5cea7ee8>:4: MatplotlibDeprecationWarning: Auto-removal of overlapping axes is deprecated since 3.6 and will be removed two minor releases later; explicitly call ax.remove() as needed.\n",
            "  fifa_penal[fifa['home_team_result']=='Win'].hist(column='home_team_goalkeeper_score',ax=plt.subplot(1,2, 1),color='limegreen')\n",
            "<ipython-input-9-401b5cea7ee8>:9: UserWarning: Boolean Series key will be reindexed to match DataFrame index.\n",
            "  fifa_penal[fifa['home_team_result']=='Lose'].hist(column='away_team_goalkeeper_score',ax=plt.subplot(1, 2, 2),color='limegreen')\n"
          ]
        },
        {
          "output_type": "display_data",
          "data": {
            "text/plain": [
              "<Figure size 1000x400 with 2 Axes>"
            ],
            "image/png": "[encoded data removed]"
          },
          "metadata": {}
        }
      ]
    },
    {
      "cell_type": "code",
      "source": [
        "# calificaciones de los porteros cuando su equipo pierde\n",
        "plt.subplots(figsize=(10, 4))\n",
        "\n",
        "fifa_penal[fifa['home_team_result']=='Lose'].hist(column='home_team_goalkeeper_score', ax=plt.subplot(1,2, 1), color='indianred' )\n",
        "plt.title('Desempeño del portero local cuando su equipo pierde',size=10)\n",
        "\n",
        "fifa_penal[fifa['home_team_result']=='Win'].hist(column='away_team_goalkeeper_score', ax=plt.subplot(1, 2, 2), color='indianred' )\n",
        "plt.title('Desempeño del portero visitante cuando su equipo pierde',size=10)\n",
        "plt.show()"
      ],
      "metadata": {
        "colab": {
          "base_uri": "https://localhost:8080/",
          "height": 519
        },
        "outputId": "a111882d-4c30-4f49-bd77-3b64b6c825fa",
        "id": "J1f5HCkhfl_I"
      },
      "execution_count": 10,
      "outputs": [
        {
          "output_type": "stream",
          "name": "stderr",
          "text": [
            "<ipython-input-10-2b64f676b6d4>:4: UserWarning: Boolean Series key will be reindexed to match DataFrame index.\n",
            "  fifa_penal[fifa['home_team_result']=='Lose'].hist(column='home_team_goalkeeper_score', ax=plt.subplot(1,2, 1), color='indianred' )\n",
            "<ipython-input-10-2b64f676b6d4>:4: MatplotlibDeprecationWarning: Auto-removal of overlapping axes is deprecated since 3.6 and will be removed two minor releases later; explicitly call ax.remove() as needed.\n",
            "  fifa_penal[fifa['home_team_result']=='Lose'].hist(column='home_team_goalkeeper_score', ax=plt.subplot(1,2, 1), color='indianred' )\n",
            "<ipython-input-10-2b64f676b6d4>:7: UserWarning: Boolean Series key will be reindexed to match DataFrame index.\n",
            "  fifa_penal[fifa['home_team_result']=='Win'].hist(column='away_team_goalkeeper_score', ax=plt.subplot(1, 2, 2), color='indianred' )\n"
          ]
        },
        {
          "output_type": "display_data",
          "data": {
            "text/plain": [
              "<Figure size 1000x400 with 2 Axes>"
            ],
            "image/png": "[encoded data removed]"
          },
          "metadata": {}
        }
      ]
    },
    {
      "cell_type": "markdown",
      "source": [
        "Visualmente no se observan diferencias significativas en el resultado del partido que dependan del desempeño del portero.\n",
        "\n",
        "Se continua con una prueba de hipótesis sobre la igualdad de las medias de dos poblaciones. Para ello, se agrupan las calificaciones de los porteros donde su equipo ganó, sin importar si el equipo era local o visitante."
      ],
      "metadata": {
        "id": "a_kakAF4f_nM"
      }
    },
    {
      "cell_type": "code",
      "source": [
        "#desempeño del portero local cuando su equipo ganó\n",
        "goalkeeper_score_win = fifa_penal[fifa['home_team_result']=='Win']['home_team_goalkeeper_score'].tolist()\n",
        "\n",
        "#agregar desempeño del portero visitante cuando su equipo ganó\n",
        "goalkeeper_score_win += fifa_penal[fifa['home_team_result']=='Lose']['away_team_goalkeeper_score'].tolist()\n",
        "\n",
        "pd.Series(goalkeeper_score_win).hist(color='limegreen')\n",
        "plt.title('Desempeño del portero cuando su equipo gana',size=10)\n",
        "plt.xlabel('Evaluación del portero')\n",
        "plt.ylabel('Frecuencia')\n",
        "plt.show()"
      ],
      "metadata": {
        "colab": {
          "base_uri": "https://localhost:8080/",
          "height": 543
        },
        "id": "exreXtqLitIt",
        "outputId": "802b1149-fd76-4507-b9d4-173e9ce2c2fc"
      },
      "execution_count": 11,
      "outputs": [
        {
          "output_type": "stream",
          "name": "stderr",
          "text": [
            "<ipython-input-11-fc691904586b>:2: UserWarning: Boolean Series key will be reindexed to match DataFrame index.\n",
            "  goalkeeper_score_win = fifa_penal[fifa['home_team_result']=='Win']['home_team_goalkeeper_score'].tolist()\n",
            "<ipython-input-11-fc691904586b>:5: UserWarning: Boolean Series key will be reindexed to match DataFrame index.\n",
            "  goalkeeper_score_win += fifa_penal[fifa['home_team_result']=='Lose']['away_team_goalkeeper_score'].tolist()\n"
          ]
        },
        {
          "output_type": "display_data",
          "data": {
            "text/plain": [
              "<Figure size 640x480 with 1 Axes>"
            ],
            "image/png": "[encoded data removed]"
          },
          "metadata": {}
        }
      ]
    },
    {
      "cell_type": "code",
      "source": [
        "#Exportar datos en formato json para creacion de sitio web\n",
        "pd.Series(goalkeeper_score_win).to_json(orient = 'columns')"
      ],
      "metadata": {
        "colab": {
          "base_uri": "https://localhost:8080/",
          "height": 110
        },
        "id": "Em_NtHtGjBJo",
        "outputId": "16b9dd48-a5b5-4c7a-e977-4e4379337a96"
      },
      "execution_count": 12,
      "outputs": [
        {
          "output_type": "execute_result",
          "data": {
            "text/plain": [
              "'{\"0\":83.0,\"1\":81.0,\"2\":93.0,\"3\":95.0,\"4\":89.0,\"5\":76.0,\"6\":69.0,\"7\":76.0,\"8\":71.0,\"9\":88.0,\"10\":71.0,\"11\":82.0,\"12\":78.0,\"13\":80.0,\"14\":70.0,\"15\":79.0,\"16\":83.0,\"17\":82.0,\"18\":90.0,\"19\":85.0,\"20\":73.0,\"21\":77.0,\"22\":79.0,\"23\":85.0,\"24\":86.0,\"25\":77.0,\"26\":83.0,\"27\":74.0,\"28\":79.0,\"29\":73.0,\"30\":82.0,\"31\":85.0,\"32\":73.0,\"33\":67.0,\"34\":77.0,\"35\":70.0,\"36\":78.0,\"37\":69.0,\"38\":83.0,\"39\":88.0,\"40\":79.0,\"41\":77.0,\"42\":77.0,\"43\":76.0,\"44\":71.0,\"45\":55.0,\"46\":71.0,\"47\":86.0,\"48\":89.0,\"49\":83.0,\"50\":66.0,\"51\":87.0,\"52\":79.0,\"53\":68.0,\"54\":75.0,\"55\":71.0,\"56\":78.0,\"57\":79.0,\"58\":83.0,\"59\":81.0,\"60\":85.0,\"61\":82.0,\"62\":85.0,\"63\":83.0,\"64\":79.0,\"65\":73.0,\"66\":67.0,\"67\":71.0,\"68\":67.0,\"69\":69.0,\"70\":74.0,\"71\":86.0,\"72\":86.0,\"73\":79.0,\"74\":85.0,\"75\":78.0,\"76\":74.0}'"
            ],
            "application/vnd.google.colaboratory.intrinsic+json": {
              "type": "string"
            }
          },
          "metadata": {},
          "execution_count": 12
        }
      ]
    },
    {
      "cell_type": "code",
      "source": [
        "#Promedio\n",
        "statistics.mean(goalkeeper_score_win)"
      ],
      "metadata": {
        "colab": {
          "base_uri": "https://localhost:8080/"
        },
        "id": "xVmikCMAZw3P",
        "outputId": "5a30135b-5ce3-4cb4-ab05-020e68781ab9"
      },
      "execution_count": 13,
      "outputs": [
        {
          "output_type": "execute_result",
          "data": {
            "text/plain": [
              "78.35064935064935"
            ]
          },
          "metadata": {},
          "execution_count": 13
        }
      ]
    },
    {
      "cell_type": "code",
      "source": [
        "#desempeño del portero local cuando su equipo perdió\n",
        "goalkeeper_score_lose = fifa_penal[fifa['home_team_result']=='Lose']['home_team_goalkeeper_score'].tolist()\n",
        "\n",
        "#agregar desempeño del portero visitante cuando su equipo perdió\n",
        "goalkeeper_score_lose += fifa_penal[fifa['home_team_result']=='Win']['away_team_goalkeeper_score'].tolist()\n",
        "\n",
        "pd.Series(goalkeeper_score_lose).hist(color='indianred')\n",
        "plt.title('Desempeño del portero cuando su equipo pierde',size=10)\n",
        "plt.xlabel('Evaluación del portero')\n",
        "plt.ylabel('Frecuencia')\n",
        "plt.show()"
      ],
      "metadata": {
        "colab": {
          "base_uri": "https://localhost:8080/",
          "height": 543
        },
        "outputId": "36e5f84e-777d-41a7-fd13-d188701b81b4",
        "id": "_p6nCiivlPjT"
      },
      "execution_count": 14,
      "outputs": [
        {
          "output_type": "stream",
          "name": "stderr",
          "text": [
            "<ipython-input-14-598581084417>:2: UserWarning: Boolean Series key will be reindexed to match DataFrame index.\n",
            "  goalkeeper_score_lose = fifa_penal[fifa['home_team_result']=='Lose']['home_team_goalkeeper_score'].tolist()\n",
            "<ipython-input-14-598581084417>:5: UserWarning: Boolean Series key will be reindexed to match DataFrame index.\n",
            "  goalkeeper_score_lose += fifa_penal[fifa['home_team_result']=='Win']['away_team_goalkeeper_score'].tolist()\n"
          ]
        },
        {
          "output_type": "display_data",
          "data": {
            "text/plain": [
              "<Figure size 640x480 with 1 Axes>"
            ],
            "image/png": "[encoded data removed]"
          },
          "metadata": {}
        }
      ]
    },
    {
      "cell_type": "code",
      "source": [
        "#Exportar datos en formato json para creacion de sitio web\n",
        "pd.Series(goalkeeper_score_lose).to_json(orient = 'columns')"
      ],
      "metadata": {
        "colab": {
          "base_uri": "https://localhost:8080/",
          "height": 110
        },
        "id": "T2v7Bc2Gjipo",
        "outputId": "fcf87f3d-0508-4959-a557-deb3352b109c"
      },
      "execution_count": 15,
      "outputs": [
        {
          "output_type": "execute_result",
          "data": {
            "text/plain": [
              "'{\"0\":85.0,\"1\":78.0,\"2\":84.0,\"3\":87.0,\"4\":77.0,\"5\":77.0,\"6\":75.0,\"7\":77.0,\"8\":77.0,\"9\":86.0,\"10\":67.0,\"11\":77.0,\"12\":83.0,\"13\":81.0,\"14\":80.0,\"15\":77.0,\"16\":81.0,\"17\":80.0,\"18\":57.0,\"19\":82.0,\"20\":82.0,\"21\":73.0,\"22\":82.0,\"23\":79.0,\"24\":79.0,\"25\":84.0,\"26\":79.0,\"27\":79.0,\"28\":82.0,\"29\":78.0,\"30\":81.0,\"31\":77.0,\"32\":69.0,\"33\":69.0,\"34\":75.0,\"35\":81.0,\"36\":87.0,\"37\":86.0,\"38\":82.0,\"39\":82.0,\"40\":82.0,\"41\":79.0,\"42\":82.0,\"43\":67.0,\"44\":87.0,\"45\":90.0,\"46\":91.0,\"47\":66.0,\"48\":71.0,\"49\":83.0,\"50\":56.0,\"51\":87.0,\"52\":65.0,\"53\":81.0,\"54\":74.0,\"55\":78.0,\"56\":67.0,\"57\":77.0,\"58\":79.0,\"59\":76.0,\"60\":84.0,\"61\":83.0,\"62\":83.0,\"63\":53.0,\"64\":90.0,\"65\":83.0,\"66\":77.0,\"67\":87.0,\"68\":75.0,\"69\":68.0,\"70\":87.0,\"71\":72.0,\"72\":79.0,\"73\":86.0,\"74\":79.0,\"75\":73.0,\"76\":74.0}'"
            ],
            "application/vnd.google.colaboratory.intrinsic+json": {
              "type": "string"
            }
          },
          "metadata": {},
          "execution_count": 15
        }
      ]
    },
    {
      "cell_type": "code",
      "source": [
        "#Promedio\n",
        "statistics.mean(goalkeeper_score_lose)"
      ],
      "metadata": {
        "colab": {
          "base_uri": "https://localhost:8080/"
        },
        "id": "_xR8o9FkaaZs",
        "outputId": "8a4055d4-c9e7-4d5d-c1f9-84cfe2582b25"
      },
      "execution_count": 16,
      "outputs": [
        {
          "output_type": "execute_result",
          "data": {
            "text/plain": [
              "78.24675324675324"
            ]
          },
          "metadata": {},
          "execution_count": 16
        }
      ]
    },
    {
      "cell_type": "markdown",
      "source": [
        "Para responder la pregunta, se hace una prueba de t de Student que mide si hay una diferencia significativa entre los promedios (prueba de hipótesis sobre la igualdad de medias).\n",
        "\n",
        "Para esto se usan 2 hipótesis donde:\n",
        "\n",
        "- La primera nula establece que los promedios de las calificaciones son iguales.\n",
        "- La hipótesis alterna establece que los promedios de las calificaciones son diferentes.\n",
        "\n",
        "En base a los graficos anteriores, se considera que las\n",
        "varianzas de las poblaciones son iguales."
      ],
      "metadata": {
        "id": "fYvT5wAQl7fA"
      }
    },
    {
      "cell_type": "code",
      "source": [
        "# Prueba de hipótesis sobre la igualdad de las medias de dos poblaciones\n",
        "alpha = 0.05 #nivel de significancia estadística crítica\n",
        "\n",
        "results = st.ttest_ind(goalkeeper_score_win, goalkeeper_score_lose)\n",
        "print('p-value: ', results.pvalue)\n",
        "if results.pvalue < alpha:  print(\"Se rechaza la hipótesis nula\")\n",
        "else: print(\"No se rechaza la hipótesis nula\")"
      ],
      "metadata": {
        "colab": {
          "base_uri": "https://localhost:8080/"
        },
        "id": "l9rvFA-hlbkL",
        "outputId": "65eff5cd-ee90-4e76-aa7d-58a2724d9fa3"
      },
      "execution_count": 17,
      "outputs": [
        {
          "output_type": "stream",
          "name": "stdout",
          "text": [
            "p-value:  0.9304364213656416\n",
            "No se rechaza la hipótesis nula\n"
          ]
        }
      ]
    },
    {
      "cell_type": "markdown",
      "source": [
        "Se obtiene un valor p de 0.93 que significa que es muy probable que la primera hipótesis sea cierta; es decir, el desempeño de los porteros cuando su equipo gana, es igual al desempeño de los porteros cuyo equipo pierde.\n",
        "\n",
        "\n",
        "## Conclusión\n",
        "Algunos pensarían que en los partidos perdidos donde hubo ronda de penaltis el portero debería tener una peor calificación, pero no es así, porque su desempeño fue igual de bueno que cuando el equipo gana. Así que no podemos culpar de todo al portero cuando su equipo pierde… ahora que lo pienso, tengo que sacar de la basura la playera de mi portero favorito… espero que siga ahí."
      ],
      "metadata": {
        "id": "VLp34Ae5nL5H"
      }
    }
  ]
}